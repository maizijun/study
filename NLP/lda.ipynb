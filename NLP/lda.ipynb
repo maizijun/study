{
 "cells": [
  {
   "cell_type": "code",
   "execution_count": 2,
   "metadata": {},
   "outputs": [],
   "source": [
    "import numpy as np\n",
    "import lda"
   ]
  },
  {
   "cell_type": "code",
   "execution_count": 3,
   "metadata": {},
   "outputs": [],
   "source": [
    "\n",
    "X = lda.datasets.load_reuters()\n",
    "vocab = lda.datasets.load_reuters_vocab()\n",
    "titles = lda.datasets.load_reuters_titles()\n"
   ]
  },
  {
   "cell_type": "code",
   "execution_count": 18,
   "metadata": {},
   "outputs": [
    {
     "output_type": "execute_result",
     "data": {
      "text/plain": "(395, 4258)"
     },
     "metadata": {},
     "execution_count": 18
    }
   ],
   "source": [
    "len(titles),len(vocab)"
   ]
  },
  {
   "cell_type": "code",
   "execution_count": 11,
   "metadata": {},
   "outputs": [
    {
     "output_type": "stream",
     "text": "\u001b[1;31mSignature:\u001b[0m \u001b[0mlda\u001b[0m\u001b[1;33m.\u001b[0m\u001b[0mdatasets\u001b[0m\u001b[1;33m.\u001b[0m\u001b[0mload_reuters\u001b[0m\u001b[1;33m(\u001b[0m\u001b[1;33m)\u001b[0m\u001b[1;33m\u001b[0m\u001b[0m\n\u001b[1;31mDocstring:\u001b[0m <no docstring>\n\u001b[1;31mFile:\u001b[0m      c:\\users\\qqmai\\anaconda3\\lib\\site-packages\\lda\\datasets.py\n\u001b[1;31mType:\u001b[0m      function\n"
    }
   ],
   "source": [
    "lda.datasets.load_reuters?"
   ]
  },
  {
   "cell_type": "code",
   "execution_count": 15,
   "metadata": {},
   "outputs": [
    {
     "output_type": "execute_result",
     "data": {
      "text/plain": "(395, 4258)"
     },
     "metadata": {},
     "execution_count": 15
    }
   ],
   "source": [
    "X.shape"
   ]
  },
  {
   "cell_type": "code",
   "execution_count": 12,
   "metadata": {},
   "outputs": [
    {
     "output_type": "stream",
     "name": "stderr",
     "text": "INFO:lda:n_documents: 395\nINFO:lda:vocab_size: 4258\nINFO:lda:n_words: 84010\nINFO:lda:n_topics: 20\nINFO:lda:n_iter: 1500\nINFO:lda:<0> log likelihood: -1051748\nINFO:lda:<10> log likelihood: -719800\nINFO:lda:<20> log likelihood: -699115\nINFO:lda:<30> log likelihood: -689370\nINFO:lda:<40> log likelihood: -684918\nINFO:lda:<50> log likelihood: -681322\nINFO:lda:<60> log likelihood: -678979\nINFO:lda:<70> log likelihood: -676598\nINFO:lda:<80> log likelihood: -675383\nINFO:lda:<90> log likelihood: -673316\nINFO:lda:<100> log likelihood: -672761\nINFO:lda:<110> log likelihood: -671320\nINFO:lda:<120> log likelihood: -669744\nINFO:lda:<130> log likelihood: -669292\nINFO:lda:<140> log likelihood: -667940\nINFO:lda:<150> log likelihood: -668038\nINFO:lda:<160> log likelihood: -667429\nINFO:lda:<170> log likelihood: -666475\nINFO:lda:<180> log likelihood: -665562\nINFO:lda:<190> log likelihood: -664920\nINFO:lda:<200> log likelihood: -664979\nINFO:lda:<210> log likelihood: -664722\nINFO:lda:<220> log likelihood: -664459\nINFO:lda:<230> log likelihood: -664360\nINFO:lda:<240> log likelihood: -663600\nINFO:lda:<250> log likelihood: -664164\nINFO:lda:<260> log likelihood: -663826\nINFO:lda:<270> log likelihood: -663458\nINFO:lda:<280> log likelihood: -663393\nINFO:lda:<290> log likelihood: -662904\nINFO:lda:<300> log likelihood: -662294\nINFO:lda:<310> log likelihood: -662031\nINFO:lda:<320> log likelihood: -662430\nINFO:lda:<330> log likelihood: -661601\nINFO:lda:<340> log likelihood: -662108\nINFO:lda:<350> log likelihood: -662152\nINFO:lda:<360> log likelihood: -661899\nINFO:lda:<370> log likelihood: -661012\nINFO:lda:<380> log likelihood: -661278\nINFO:lda:<390> log likelihood: -661085\nINFO:lda:<400> log likelihood: -660418\nINFO:lda:<410> log likelihood: -660510\nINFO:lda:<420> log likelihood: -660343\nINFO:lda:<430> log likelihood: -659789\nINFO:lda:<440> log likelihood: -659336\nINFO:lda:<450> log likelihood: -659039\nINFO:lda:<460> log likelihood: -659329\nINFO:lda:<470> log likelihood: -658707\nINFO:lda:<480> log likelihood: -658879\nINFO:lda:<490> log likelihood: -658819\nINFO:lda:<500> log likelihood: -658407\nINFO:lda:<510> log likelihood: -658651\nINFO:lda:<520> log likelihood: -658111\nINFO:lda:<530> log likelihood: -658018\nINFO:lda:<540> log likelihood: -658111\nINFO:lda:<550> log likelihood: -657925\nINFO:lda:<560> log likelihood: -657860\nINFO:lda:<570> log likelihood: -657494\nINFO:lda:<580> log likelihood: -657723\nINFO:lda:<590> log likelihood: -657591\nINFO:lda:<600> log likelihood: -657557\nINFO:lda:<610> log likelihood: -657505\nINFO:lda:<620> log likelihood: -657730\nINFO:lda:<630> log likelihood: -657304\nINFO:lda:<640> log likelihood: -657208\nINFO:lda:<650> log likelihood: -657518\nINFO:lda:<660> log likelihood: -657541\nINFO:lda:<670> log likelihood: -657381\nINFO:lda:<680> log likelihood: -657575\nINFO:lda:<690> log likelihood: -656985\nINFO:lda:<700> log likelihood: -656815\nINFO:lda:<710> log likelihood: -656930\nINFO:lda:<720> log likelihood: -656538\nINFO:lda:<730> log likelihood: -656291\nINFO:lda:<740> log likelihood: -656417\nINFO:lda:<750> log likelihood: -656747\nINFO:lda:<760> log likelihood: -656600\nINFO:lda:<770> log likelihood: -656269\nINFO:lda:<780> log likelihood: -656311\nINFO:lda:<790> log likelihood: -656069\nINFO:lda:<800> log likelihood: -656228\nINFO:lda:<810> log likelihood: -656178\nINFO:lda:<820> log likelihood: -655694\nINFO:lda:<830> log likelihood: -655997\nINFO:lda:<840> log likelihood: -656224\nINFO:lda:<850> log likelihood: -656197\nINFO:lda:<860> log likelihood: -655889\nINFO:lda:<870> log likelihood: -656180\nINFO:lda:<880> log likelihood: -656997\nINFO:lda:<890> log likelihood: -655989\nINFO:lda:<900> log likelihood: -655615\nINFO:lda:<910> log likelihood: -655584\nINFO:lda:<920> log likelihood: -656602\nINFO:lda:<930> log likelihood: -656083\nINFO:lda:<940> log likelihood: -656294\nINFO:lda:<950> log likelihood: -656257\nINFO:lda:<960> log likelihood: -656243\nINFO:lda:<970> log likelihood: -656028\nINFO:lda:<980> log likelihood: -655603\nINFO:lda:<990> log likelihood: -656012\nINFO:lda:<1000> log likelihood: -655849\nINFO:lda:<1010> log likelihood: -655376\nINFO:lda:<1020> log likelihood: -655417\nINFO:lda:<1030> log likelihood: -655856\nINFO:lda:<1040> log likelihood: -655197\nINFO:lda:<1050> log likelihood: -655938\nINFO:lda:<1060> log likelihood: -655529\nINFO:lda:<1070> log likelihood: -655092\nINFO:lda:<1080> log likelihood: -655119\nINFO:lda:<1090> log likelihood: -656215\nINFO:lda:<1100> log likelihood: -655602\nINFO:lda:<1110> log likelihood: -655296\nINFO:lda:<1120> log likelihood: -655547\nINFO:lda:<1130> log likelihood: -655580\nINFO:lda:<1140> log likelihood: -655604\nINFO:lda:<1150> log likelihood: -655168\nINFO:lda:<1160> log likelihood: -655281\nINFO:lda:<1170> log likelihood: -655409\nINFO:lda:<1180> log likelihood: -655517\nINFO:lda:<1190> log likelihood: -654922\nINFO:lda:<1200> log likelihood: -655304\nINFO:lda:<1210> log likelihood: -655852\nINFO:lda:<1220> log likelihood: -655184\nINFO:lda:<1230> log likelihood: -655650\nINFO:lda:<1240> log likelihood: -655606\nINFO:lda:<1250> log likelihood: -656086\nINFO:lda:<1260> log likelihood: -655698\nINFO:lda:<1270> log likelihood: -655351\nINFO:lda:<1280> log likelihood: -655686\nINFO:lda:<1290> log likelihood: -654801\nINFO:lda:<1300> log likelihood: -654973\nINFO:lda:<1310> log likelihood: -655186\nINFO:lda:<1320> log likelihood: -655128\nINFO:lda:<1330> log likelihood: -655365\nINFO:lda:<1340> log likelihood: -655338\nINFO:lda:<1350> log likelihood: -655219\nINFO:lda:<1360> log likelihood: -655115\nINFO:lda:<1370> log likelihood: -654930\nINFO:lda:<1380> log likelihood: -655209\nINFO:lda:<1390> log likelihood: -654940\nINFO:lda:<1400> log likelihood: -655055\nINFO:lda:<1410> log likelihood: -655286\nINFO:lda:<1420> log likelihood: -655316\nINFO:lda:<1430> log likelihood: -655257\nINFO:lda:<1440> log likelihood: -654964\nINFO:lda:<1450> log likelihood: -654884\nINFO:lda:<1460> log likelihood: -655493\nINFO:lda:<1470> log likelihood: -655415\nINFO:lda:<1480> log likelihood: -655192\nINFO:lda:<1490> log likelihood: -655728\nINFO:lda:<1499> log likelihood: -655858\n"
    }
   ],
   "source": [
    "\n",
    "model = lda.LDA(n_topics=20, n_iter=1500, random_state=1)\n",
    "model.fit(X)  # model.fit_transform(X) is also available\n",
    "topic_word = model.topic_word_  # model.components_ also works\n",
    "n_top_words = 8"
   ]
  },
  {
   "cell_type": "code",
   "execution_count": 17,
   "metadata": {},
   "outputs": [
    {
     "output_type": "execute_result",
     "data": {
      "text/plain": "(20, 4258)"
     },
     "metadata": {},
     "execution_count": 17
    }
   ],
   "source": [
    "topic_word.shape"
   ]
  },
  {
   "cell_type": "code",
   "execution_count": null,
   "metadata": {},
   "outputs": [],
   "source": []
  }
 ],
 "metadata": {
  "language_info": {
   "codemirror_mode": {
    "name": "ipython",
    "version": 3
   },
   "file_extension": ".py",
   "mimetype": "text/x-python",
   "name": "python",
   "nbconvert_exporter": "python",
   "pygments_lexer": "ipython3",
   "version": "3.6.4-final"
  },
  "orig_nbformat": 2,
  "kernelspec": {
   "name": "python36464bitqqmaivirtualenv362ad2a659b5435fb171141c56735108",
   "display_name": "Python 3.6.4 64-bit ('qqmai': virtualenv)"
  }
 },
 "nbformat": 4,
 "nbformat_minor": 2
}